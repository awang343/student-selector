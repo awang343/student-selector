{
 "cells": [
  {
   "cell_type": "code",
   "execution_count": 2,
   "metadata": {},
   "outputs": [],
   "source": [
    "import numpy as np\n",
    "import pandas as pd\n",
    "import scipy as sp"
   ]
  },
  {
   "cell_type": "code",
   "execution_count": 3,
   "metadata": {},
   "outputs": [
    {
     "name": "stdout",
     "output_type": "stream",
     "text": [
      "Adyant Ranjan\n",
      "Noah Kim\n",
      "Amith Chintalapati\n",
      "Adrien Durantel\n",
      "Mia Frickey (Amelia)\n",
      "Aryan Sawhney\n",
      "Liam Kearns\n",
      "Sarah Bao\n",
      "Francesca Elia\n",
      "Sophia Li\n",
      "Annabel Qin\n",
      "Nandika Auluck\n",
      "Jerry Zhou\n",
      "Tilas Kebengele \n"
     ]
    }
   ],
   "source": [
    "for i in pd.read_csv(\"class_list.csv\")[\"Name\"]:\n",
    "    print(i)"
   ]
  },
  {
   "cell_type": "code",
   "execution_count": 132,
   "metadata": {},
   "outputs": [],
   "source": [
    "# Class List Generation\n",
    "def generateLectureList():\n",
    "    ppl = \"\"\"\n",
    "    A\n",
    "    B\n",
    "    C\n",
    "    D\n",
    "    E\n",
    "    F\n",
    "    G\n",
    "    H\n",
    "    I\n",
    "    J\n",
    "    K\n",
    "    L\n",
    "    \"\"\"\n",
    "    ppl = [i.strip() for i in ppl.split(\"\\n\") if i.strip()!=\"\"]\n",
    "    ids = pd.Series(range(len(ppl))).rename(\"Id\")\n",
    "    pd.DataFrame(ppl, columns=[\"Name\"], index=ids).to_csv(\"lecture_list.csv\")\n",
    "\n",
    "generateLectureList()"
   ]
  },
  {
   "cell_type": "code",
   "execution_count": 137,
   "metadata": {},
   "outputs": [
    {
     "name": "stdout",
     "output_type": "stream",
     "text": [
      "None\n",
      "None\n",
      "None\n",
      "None\n",
      "None\n",
      "None\n",
      "None\n",
      "None\n",
      "None\n",
      "None\n",
      "None\n",
      "None\n"
     ]
    },
    {
     "data": {
      "text/plain": [
       "[None, None, None, None, None, None, None, None, None, None, None, None]"
      ]
     },
     "execution_count": 137,
     "metadata": {},
     "output_type": "execute_result"
    }
   ],
   "source": [
    "class Class:\n",
    "    def __init__(self, csv_name):\n",
    "        self.load_class(csv_name)\n",
    "    \n",
    "    def load_class(self, csv_name):\n",
    "        self.data = pd.read_csv(csv_name, index_col=\"Id\")\n",
    "        self.data[\"Talk Count\"] = 0\n",
    "        self.update_weights()\n",
    "    \n",
    "    def update_weights(self):\n",
    "        self.data[\"Weights\"] = sp.special.softmax(np.log(1/(self.data[\"Talk Count\"]+0.1))/np.log(1.7))\n",
    "    \n",
    "    def choose_random(self):\n",
    "        id = np.random.choice(self.data.index, p = self.data[\"Weights\"])\n",
    "        display(self.data.loc[id])\n",
    "        self.data.loc[id, \"Talk Count\"] += 1\n",
    "        self.update_weights()\n",
    "\n",
    "    def volunteer(self, *, id=None, name=None):\n",
    "        if id is None and name is None:\n",
    "            raise \"Provide an id or name\"\n",
    "        print(name)\n",
    "        self.data.loc[np.logical_or(self.data[\"Name\"] == name, self.data.index == id), \"Talk Count\"] += 1\n",
    "        self.update_weights()\n",
    "    \n",
    "    def add_person(self, name):\n",
    "        self.data.loc[len(self.data)] = [name, 0, 0]\n",
    "        self.update_weights()\n",
    "    \n",
    "    def remove_person(self, *, id = None, name = None):\n",
    "        if not np.any(id == self.data.index) and not np.any(name == self.data[\"Name\"]):\n",
    "            print(name in self.data[\"Name\"])\n",
    "            raise \"Provide a valid id or name\"\n",
    "        if id is not None and name is not None:\n",
    "            raise \"Specify either id or name\"\n",
    "\n",
    "        self.data = self.data[self.data[\"Name\"] != name]\n",
    "        self.data = self.data[self.data.index != id]\n",
    "lecture3 = Class(\"lecture_list.csv\")\n",
    "[lecture3.volunteer(id=i) for i in range(12)]\n"
   ]
  },
  {
   "cell_type": "code",
   "execution_count": 143,
   "metadata": {},
   "outputs": [
    {
     "name": "stdout",
     "output_type": "stream",
     "text": [
      "None\n"
     ]
    },
    {
     "data": {
      "text/html": [
       "<div>\n",
       "<style scoped>\n",
       "    .dataframe tbody tr th:only-of-type {\n",
       "        vertical-align: middle;\n",
       "    }\n",
       "\n",
       "    .dataframe tbody tr th {\n",
       "        vertical-align: top;\n",
       "    }\n",
       "\n",
       "    .dataframe thead th {\n",
       "        text-align: right;\n",
       "    }\n",
       "</style>\n",
       "<table border=\"1\" class=\"dataframe\">\n",
       "  <thead>\n",
       "    <tr style=\"text-align: right;\">\n",
       "      <th></th>\n",
       "      <th>Name</th>\n",
       "      <th>Talk Count</th>\n",
       "      <th>Weights</th>\n",
       "    </tr>\n",
       "    <tr>\n",
       "      <th>Id</th>\n",
       "      <th></th>\n",
       "      <th></th>\n",
       "      <th></th>\n",
       "    </tr>\n",
       "  </thead>\n",
       "  <tbody>\n",
       "    <tr>\n",
       "      <th>0</th>\n",
       "      <td>A</td>\n",
       "      <td>1</td>\n",
       "      <td>0.090664</td>\n",
       "    </tr>\n",
       "    <tr>\n",
       "      <th>1</th>\n",
       "      <td>B</td>\n",
       "      <td>7</td>\n",
       "      <td>0.002699</td>\n",
       "    </tr>\n",
       "    <tr>\n",
       "      <th>2</th>\n",
       "      <td>C</td>\n",
       "      <td>1</td>\n",
       "      <td>0.090664</td>\n",
       "    </tr>\n",
       "    <tr>\n",
       "      <th>3</th>\n",
       "      <td>D</td>\n",
       "      <td>1</td>\n",
       "      <td>0.090664</td>\n",
       "    </tr>\n",
       "    <tr>\n",
       "      <th>4</th>\n",
       "      <td>E</td>\n",
       "      <td>1</td>\n",
       "      <td>0.090664</td>\n",
       "    </tr>\n",
       "    <tr>\n",
       "      <th>5</th>\n",
       "      <td>F</td>\n",
       "      <td>1</td>\n",
       "      <td>0.090664</td>\n",
       "    </tr>\n",
       "    <tr>\n",
       "      <th>6</th>\n",
       "      <td>G</td>\n",
       "      <td>1</td>\n",
       "      <td>0.090664</td>\n",
       "    </tr>\n",
       "    <tr>\n",
       "      <th>7</th>\n",
       "      <td>H</td>\n",
       "      <td>1</td>\n",
       "      <td>0.090664</td>\n",
       "    </tr>\n",
       "    <tr>\n",
       "      <th>8</th>\n",
       "      <td>I</td>\n",
       "      <td>1</td>\n",
       "      <td>0.090664</td>\n",
       "    </tr>\n",
       "    <tr>\n",
       "      <th>9</th>\n",
       "      <td>J</td>\n",
       "      <td>1</td>\n",
       "      <td>0.090664</td>\n",
       "    </tr>\n",
       "    <tr>\n",
       "      <th>10</th>\n",
       "      <td>K</td>\n",
       "      <td>1</td>\n",
       "      <td>0.090664</td>\n",
       "    </tr>\n",
       "    <tr>\n",
       "      <th>11</th>\n",
       "      <td>L</td>\n",
       "      <td>1</td>\n",
       "      <td>0.090664</td>\n",
       "    </tr>\n",
       "  </tbody>\n",
       "</table>\n",
       "</div>"
      ],
      "text/plain": [
       "   Name  Talk Count   Weights\n",
       "Id                           \n",
       "0     A           1  0.090664\n",
       "1     B           7  0.002699\n",
       "2     C           1  0.090664\n",
       "3     D           1  0.090664\n",
       "4     E           1  0.090664\n",
       "5     F           1  0.090664\n",
       "6     G           1  0.090664\n",
       "7     H           1  0.090664\n",
       "8     I           1  0.090664\n",
       "9     J           1  0.090664\n",
       "10    K           1  0.090664\n",
       "11    L           1  0.090664"
      ]
     },
     "metadata": {},
     "output_type": "display_data"
    }
   ],
   "source": [
    "lecture3.volunteer(id=1)\n",
    "display(lecture3.data)"
   ]
  },
  {
   "cell_type": "code",
   "execution_count": 58,
   "metadata": {},
   "outputs": [
    {
     "name": "stdout",
     "output_type": "stream",
     "text": [
      "None\n"
     ]
    }
   ],
   "source": [
    "lecture3.volunteer(id=8)"
   ]
  },
  {
   "cell_type": "code",
   "execution_count": 69,
   "metadata": {},
   "outputs": [
    {
     "data": {
      "text/plain": [
       "Name          Adyant Ranjan\n",
       "Talk Count                5\n",
       "Weights             0.09355\n",
       "Name: 5, dtype: object"
      ]
     },
     "metadata": {},
     "output_type": "display_data"
    }
   ],
   "source": [
    "lecture3.choose_random()"
   ]
  },
  {
   "cell_type": "code",
   "execution_count": 71,
   "metadata": {},
   "outputs": [
    {
     "data": {
      "text/html": [
       "<div>\n",
       "<style scoped>\n",
       "    .dataframe tbody tr th:only-of-type {\n",
       "        vertical-align: middle;\n",
       "    }\n",
       "\n",
       "    .dataframe tbody tr th {\n",
       "        vertical-align: top;\n",
       "    }\n",
       "\n",
       "    .dataframe thead th {\n",
       "        text-align: right;\n",
       "    }\n",
       "</style>\n",
       "<table border=\"1\" class=\"dataframe\">\n",
       "  <thead>\n",
       "    <tr style=\"text-align: right;\">\n",
       "      <th></th>\n",
       "      <th>Name</th>\n",
       "      <th>Talk Count</th>\n",
       "      <th>Weights</th>\n",
       "    </tr>\n",
       "    <tr>\n",
       "      <th>Id</th>\n",
       "      <th></th>\n",
       "      <th></th>\n",
       "      <th></th>\n",
       "    </tr>\n",
       "  </thead>\n",
       "  <tbody>\n",
       "    <tr>\n",
       "      <th>0</th>\n",
       "      <td>Sophia Li</td>\n",
       "      <td>2</td>\n",
       "      <td>0.113960</td>\n",
       "    </tr>\n",
       "    <tr>\n",
       "      <th>1</th>\n",
       "      <td>Aryan Sawhney</td>\n",
       "      <td>1</td>\n",
       "      <td>0.141700</td>\n",
       "    </tr>\n",
       "    <tr>\n",
       "      <th>2</th>\n",
       "      <td>Annabel Qin</td>\n",
       "      <td>1</td>\n",
       "      <td>0.141700</td>\n",
       "    </tr>\n",
       "    <tr>\n",
       "      <th>3</th>\n",
       "      <td>Francesca Elia</td>\n",
       "      <td>4</td>\n",
       "      <td>0.097343</td>\n",
       "    </tr>\n",
       "    <tr>\n",
       "      <th>4</th>\n",
       "      <td>Nandika Auluck</td>\n",
       "      <td>3</td>\n",
       "      <td>0.103105</td>\n",
       "    </tr>\n",
       "    <tr>\n",
       "      <th>5</th>\n",
       "      <td>Adyant Ranjan</td>\n",
       "      <td>6</td>\n",
       "      <td>0.091353</td>\n",
       "    </tr>\n",
       "    <tr>\n",
       "      <th>6</th>\n",
       "      <td>Liam Kearns</td>\n",
       "      <td>2</td>\n",
       "      <td>0.113960</td>\n",
       "    </tr>\n",
       "    <tr>\n",
       "      <th>7</th>\n",
       "      <td>Sarah Bao</td>\n",
       "      <td>3</td>\n",
       "      <td>0.103105</td>\n",
       "    </tr>\n",
       "    <tr>\n",
       "      <th>8</th>\n",
       "      <td>Jerry Zhou</td>\n",
       "      <td>5</td>\n",
       "      <td>0.093776</td>\n",
       "    </tr>\n",
       "  </tbody>\n",
       "</table>\n",
       "</div>"
      ],
      "text/plain": [
       "              Name  Talk Count   Weights\n",
       "Id                                      \n",
       "0        Sophia Li           2  0.113960\n",
       "1    Aryan Sawhney           1  0.141700\n",
       "2      Annabel Qin           1  0.141700\n",
       "3   Francesca Elia           4  0.097343\n",
       "4   Nandika Auluck           3  0.103105\n",
       "5    Adyant Ranjan           6  0.091353\n",
       "6      Liam Kearns           2  0.113960\n",
       "7        Sarah Bao           3  0.103105\n",
       "8       Jerry Zhou           5  0.093776"
      ]
     },
     "metadata": {},
     "output_type": "display_data"
    }
   ],
   "source": [
    "display(lecture3.data)"
   ]
  }
 ],
 "metadata": {
  "kernelspec": {
   "display_name": "Python 3",
   "language": "python",
   "name": "python3"
  },
  "language_info": {
   "codemirror_mode": {
    "name": "ipython",
    "version": 3
   },
   "file_extension": ".py",
   "mimetype": "text/x-python",
   "name": "python",
   "nbconvert_exporter": "python",
   "pygments_lexer": "ipython3",
   "version": "3.12.3"
  }
 },
 "nbformat": 4,
 "nbformat_minor": 2
}
